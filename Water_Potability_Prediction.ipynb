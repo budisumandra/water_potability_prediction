{
 "cells": [
  {
   "cell_type": "markdown",
   "id": "96343848",
   "metadata": {},
   "source": [
    "# IMPORTANT LIBRARIES"
   ]
  },
  {
   "cell_type": "code",
   "execution_count": 1,
   "id": "641b7077",
   "metadata": {},
   "outputs": [],
   "source": [
    "import pandas as pd\n",
    "import matplotlib.pyplot as plt\n",
    "import seaborn as sns\n",
    "from sklearn.linear_model import LogisticRegression\n",
    "from sklearn.model_selection import train_test_split\n",
    "from sklearn.metrics import mutual_info_score\n",
    "from sklearn.metrics import accuracy_score\n",
    "from sklearn.feature_extraction import DictVectorizer\n",
    "import plotly.express as px\n",
    "import numpy as np\n",
    "from datetime import date\n",
    "import warnings\n",
    "warnings.filterwarnings('ignore')\n",
    "from sklearn.model_selection import KFold\n",
    "from sklearn.metrics import roc_auc_score\n",
    "%matplotlib inline"
   ]
  },
  {
   "cell_type": "markdown",
   "id": "ba3d6b84",
   "metadata": {},
   "source": [
    "# LOAD DATASET"
   ]
  },
  {
   "cell_type": "code",
   "execution_count": 2,
   "id": "823e5396",
   "metadata": {},
   "outputs": [
    {
     "data": {
      "text/html": [
       "<div>\n",
       "<style scoped>\n",
       "    .dataframe tbody tr th:only-of-type {\n",
       "        vertical-align: middle;\n",
       "    }\n",
       "\n",
       "    .dataframe tbody tr th {\n",
       "        vertical-align: top;\n",
       "    }\n",
       "\n",
       "    .dataframe thead th {\n",
       "        text-align: right;\n",
       "    }\n",
       "</style>\n",
       "<table border=\"1\" class=\"dataframe\">\n",
       "  <thead>\n",
       "    <tr style=\"text-align: right;\">\n",
       "      <th></th>\n",
       "      <th>0</th>\n",
       "      <th>1</th>\n",
       "      <th>2</th>\n",
       "      <th>3</th>\n",
       "      <th>4</th>\n",
       "    </tr>\n",
       "  </thead>\n",
       "  <tbody>\n",
       "    <tr>\n",
       "      <th>ph</th>\n",
       "      <td>NaN</td>\n",
       "      <td>3.716080</td>\n",
       "      <td>8.099124</td>\n",
       "      <td>8.316766</td>\n",
       "      <td>9.092223</td>\n",
       "    </tr>\n",
       "    <tr>\n",
       "      <th>Hardness</th>\n",
       "      <td>204.890455</td>\n",
       "      <td>129.422921</td>\n",
       "      <td>224.236259</td>\n",
       "      <td>214.373394</td>\n",
       "      <td>181.101509</td>\n",
       "    </tr>\n",
       "    <tr>\n",
       "      <th>Solids</th>\n",
       "      <td>20791.318981</td>\n",
       "      <td>18630.057858</td>\n",
       "      <td>19909.541732</td>\n",
       "      <td>22018.417441</td>\n",
       "      <td>17978.986339</td>\n",
       "    </tr>\n",
       "    <tr>\n",
       "      <th>Chloramines</th>\n",
       "      <td>7.300212</td>\n",
       "      <td>6.635246</td>\n",
       "      <td>9.275884</td>\n",
       "      <td>8.059332</td>\n",
       "      <td>6.546600</td>\n",
       "    </tr>\n",
       "    <tr>\n",
       "      <th>Sulfate</th>\n",
       "      <td>368.516441</td>\n",
       "      <td>NaN</td>\n",
       "      <td>NaN</td>\n",
       "      <td>356.886136</td>\n",
       "      <td>310.135738</td>\n",
       "    </tr>\n",
       "    <tr>\n",
       "      <th>Conductivity</th>\n",
       "      <td>564.308654</td>\n",
       "      <td>592.885359</td>\n",
       "      <td>418.606213</td>\n",
       "      <td>363.266516</td>\n",
       "      <td>398.410813</td>\n",
       "    </tr>\n",
       "    <tr>\n",
       "      <th>Organic_carbon</th>\n",
       "      <td>10.379783</td>\n",
       "      <td>15.180013</td>\n",
       "      <td>16.868637</td>\n",
       "      <td>18.436524</td>\n",
       "      <td>11.558279</td>\n",
       "    </tr>\n",
       "    <tr>\n",
       "      <th>Trihalomethanes</th>\n",
       "      <td>86.990970</td>\n",
       "      <td>56.329076</td>\n",
       "      <td>66.420093</td>\n",
       "      <td>100.341674</td>\n",
       "      <td>31.997993</td>\n",
       "    </tr>\n",
       "    <tr>\n",
       "      <th>Turbidity</th>\n",
       "      <td>2.963135</td>\n",
       "      <td>4.500656</td>\n",
       "      <td>3.055934</td>\n",
       "      <td>4.628771</td>\n",
       "      <td>4.075075</td>\n",
       "    </tr>\n",
       "    <tr>\n",
       "      <th>Potability</th>\n",
       "      <td>0.000000</td>\n",
       "      <td>0.000000</td>\n",
       "      <td>0.000000</td>\n",
       "      <td>0.000000</td>\n",
       "      <td>0.000000</td>\n",
       "    </tr>\n",
       "  </tbody>\n",
       "</table>\n",
       "</div>"
      ],
      "text/plain": [
       "                            0             1             2             3  \\\n",
       "ph                        NaN      3.716080      8.099124      8.316766   \n",
       "Hardness           204.890455    129.422921    224.236259    214.373394   \n",
       "Solids           20791.318981  18630.057858  19909.541732  22018.417441   \n",
       "Chloramines          7.300212      6.635246      9.275884      8.059332   \n",
       "Sulfate            368.516441           NaN           NaN    356.886136   \n",
       "Conductivity       564.308654    592.885359    418.606213    363.266516   \n",
       "Organic_carbon      10.379783     15.180013     16.868637     18.436524   \n",
       "Trihalomethanes     86.990970     56.329076     66.420093    100.341674   \n",
       "Turbidity            2.963135      4.500656      3.055934      4.628771   \n",
       "Potability           0.000000      0.000000      0.000000      0.000000   \n",
       "\n",
       "                            4  \n",
       "ph                   9.092223  \n",
       "Hardness           181.101509  \n",
       "Solids           17978.986339  \n",
       "Chloramines          6.546600  \n",
       "Sulfate            310.135738  \n",
       "Conductivity       398.410813  \n",
       "Organic_carbon      11.558279  \n",
       "Trihalomethanes     31.997993  \n",
       "Turbidity            4.075075  \n",
       "Potability           0.000000  "
      ]
     },
     "execution_count": 2,
     "metadata": {},
     "output_type": "execute_result"
    }
   ],
   "source": [
    "df = pd.read_csv('water_potability.csv')\n",
    "df.head().T"
   ]
  },
  {
   "cell_type": "code",
   "execution_count": 42,
   "id": "39e74cb9",
   "metadata": {},
   "outputs": [
    {
     "data": {
      "text/html": [
       "<div>\n",
       "<style scoped>\n",
       "    .dataframe tbody tr th:only-of-type {\n",
       "        vertical-align: middle;\n",
       "    }\n",
       "\n",
       "    .dataframe tbody tr th {\n",
       "        vertical-align: top;\n",
       "    }\n",
       "\n",
       "    .dataframe thead th {\n",
       "        text-align: right;\n",
       "    }\n",
       "</style>\n",
       "<table border=\"1\" class=\"dataframe\">\n",
       "  <thead>\n",
       "    <tr style=\"text-align: right;\">\n",
       "      <th></th>\n",
       "      <th>ph</th>\n",
       "      <th>hardness</th>\n",
       "      <th>solids</th>\n",
       "      <th>chloramines</th>\n",
       "      <th>sulfate</th>\n",
       "      <th>conductivity</th>\n",
       "      <th>organic_carbon</th>\n",
       "      <th>trihalomethanes</th>\n",
       "      <th>turbidity</th>\n",
       "      <th>potability</th>\n",
       "    </tr>\n",
       "  </thead>\n",
       "  <tbody>\n",
       "    <tr>\n",
       "      <th>0</th>\n",
       "      <td>NaN</td>\n",
       "      <td>204.890455</td>\n",
       "      <td>20791.318981</td>\n",
       "      <td>7.300212</td>\n",
       "      <td>368.516441</td>\n",
       "      <td>564.308654</td>\n",
       "      <td>10.379783</td>\n",
       "      <td>86.990970</td>\n",
       "      <td>2.963135</td>\n",
       "      <td>0</td>\n",
       "    </tr>\n",
       "    <tr>\n",
       "      <th>1</th>\n",
       "      <td>3.716080</td>\n",
       "      <td>129.422921</td>\n",
       "      <td>18630.057858</td>\n",
       "      <td>6.635246</td>\n",
       "      <td>NaN</td>\n",
       "      <td>592.885359</td>\n",
       "      <td>15.180013</td>\n",
       "      <td>56.329076</td>\n",
       "      <td>4.500656</td>\n",
       "      <td>0</td>\n",
       "    </tr>\n",
       "    <tr>\n",
       "      <th>2</th>\n",
       "      <td>8.099124</td>\n",
       "      <td>224.236259</td>\n",
       "      <td>19909.541732</td>\n",
       "      <td>9.275884</td>\n",
       "      <td>NaN</td>\n",
       "      <td>418.606213</td>\n",
       "      <td>16.868637</td>\n",
       "      <td>66.420093</td>\n",
       "      <td>3.055934</td>\n",
       "      <td>0</td>\n",
       "    </tr>\n",
       "    <tr>\n",
       "      <th>3</th>\n",
       "      <td>8.316766</td>\n",
       "      <td>214.373394</td>\n",
       "      <td>22018.417441</td>\n",
       "      <td>8.059332</td>\n",
       "      <td>356.886136</td>\n",
       "      <td>363.266516</td>\n",
       "      <td>18.436524</td>\n",
       "      <td>100.341674</td>\n",
       "      <td>4.628771</td>\n",
       "      <td>0</td>\n",
       "    </tr>\n",
       "    <tr>\n",
       "      <th>4</th>\n",
       "      <td>9.092223</td>\n",
       "      <td>181.101509</td>\n",
       "      <td>17978.986339</td>\n",
       "      <td>6.546600</td>\n",
       "      <td>310.135738</td>\n",
       "      <td>398.410813</td>\n",
       "      <td>11.558279</td>\n",
       "      <td>31.997993</td>\n",
       "      <td>4.075075</td>\n",
       "      <td>0</td>\n",
       "    </tr>\n",
       "    <tr>\n",
       "      <th>...</th>\n",
       "      <td>...</td>\n",
       "      <td>...</td>\n",
       "      <td>...</td>\n",
       "      <td>...</td>\n",
       "      <td>...</td>\n",
       "      <td>...</td>\n",
       "      <td>...</td>\n",
       "      <td>...</td>\n",
       "      <td>...</td>\n",
       "      <td>...</td>\n",
       "    </tr>\n",
       "    <tr>\n",
       "      <th>3271</th>\n",
       "      <td>4.668102</td>\n",
       "      <td>193.681735</td>\n",
       "      <td>47580.991603</td>\n",
       "      <td>7.166639</td>\n",
       "      <td>359.948574</td>\n",
       "      <td>526.424171</td>\n",
       "      <td>13.894419</td>\n",
       "      <td>66.687695</td>\n",
       "      <td>4.435821</td>\n",
       "      <td>1</td>\n",
       "    </tr>\n",
       "    <tr>\n",
       "      <th>3272</th>\n",
       "      <td>7.808856</td>\n",
       "      <td>193.553212</td>\n",
       "      <td>17329.802160</td>\n",
       "      <td>8.061362</td>\n",
       "      <td>NaN</td>\n",
       "      <td>392.449580</td>\n",
       "      <td>19.903225</td>\n",
       "      <td>NaN</td>\n",
       "      <td>2.798243</td>\n",
       "      <td>1</td>\n",
       "    </tr>\n",
       "    <tr>\n",
       "      <th>3273</th>\n",
       "      <td>9.419510</td>\n",
       "      <td>175.762646</td>\n",
       "      <td>33155.578218</td>\n",
       "      <td>7.350233</td>\n",
       "      <td>NaN</td>\n",
       "      <td>432.044783</td>\n",
       "      <td>11.039070</td>\n",
       "      <td>69.845400</td>\n",
       "      <td>3.298875</td>\n",
       "      <td>1</td>\n",
       "    </tr>\n",
       "    <tr>\n",
       "      <th>3274</th>\n",
       "      <td>5.126763</td>\n",
       "      <td>230.603758</td>\n",
       "      <td>11983.869376</td>\n",
       "      <td>6.303357</td>\n",
       "      <td>NaN</td>\n",
       "      <td>402.883113</td>\n",
       "      <td>11.168946</td>\n",
       "      <td>77.488213</td>\n",
       "      <td>4.708658</td>\n",
       "      <td>1</td>\n",
       "    </tr>\n",
       "    <tr>\n",
       "      <th>3275</th>\n",
       "      <td>7.874671</td>\n",
       "      <td>195.102299</td>\n",
       "      <td>17404.177061</td>\n",
       "      <td>7.509306</td>\n",
       "      <td>NaN</td>\n",
       "      <td>327.459760</td>\n",
       "      <td>16.140368</td>\n",
       "      <td>78.698446</td>\n",
       "      <td>2.309149</td>\n",
       "      <td>1</td>\n",
       "    </tr>\n",
       "  </tbody>\n",
       "</table>\n",
       "<p>3276 rows × 10 columns</p>\n",
       "</div>"
      ],
      "text/plain": [
       "            ph    hardness        solids  chloramines     sulfate  \\\n",
       "0          NaN  204.890455  20791.318981     7.300212  368.516441   \n",
       "1     3.716080  129.422921  18630.057858     6.635246         NaN   \n",
       "2     8.099124  224.236259  19909.541732     9.275884         NaN   \n",
       "3     8.316766  214.373394  22018.417441     8.059332  356.886136   \n",
       "4     9.092223  181.101509  17978.986339     6.546600  310.135738   \n",
       "...        ...         ...           ...          ...         ...   \n",
       "3271  4.668102  193.681735  47580.991603     7.166639  359.948574   \n",
       "3272  7.808856  193.553212  17329.802160     8.061362         NaN   \n",
       "3273  9.419510  175.762646  33155.578218     7.350233         NaN   \n",
       "3274  5.126763  230.603758  11983.869376     6.303357         NaN   \n",
       "3275  7.874671  195.102299  17404.177061     7.509306         NaN   \n",
       "\n",
       "      conductivity  organic_carbon  trihalomethanes  turbidity  potability  \n",
       "0       564.308654       10.379783        86.990970   2.963135           0  \n",
       "1       592.885359       15.180013        56.329076   4.500656           0  \n",
       "2       418.606213       16.868637        66.420093   3.055934           0  \n",
       "3       363.266516       18.436524       100.341674   4.628771           0  \n",
       "4       398.410813       11.558279        31.997993   4.075075           0  \n",
       "...            ...             ...              ...        ...         ...  \n",
       "3271    526.424171       13.894419        66.687695   4.435821           1  \n",
       "3272    392.449580       19.903225              NaN   2.798243           1  \n",
       "3273    432.044783       11.039070        69.845400   3.298875           1  \n",
       "3274    402.883113       11.168946        77.488213   4.708658           1  \n",
       "3275    327.459760       16.140368        78.698446   2.309149           1  \n",
       "\n",
       "[3276 rows x 10 columns]"
      ]
     },
     "execution_count": 42,
     "metadata": {},
     "output_type": "execute_result"
    }
   ],
   "source": [
    "df"
   ]
  },
  {
   "cell_type": "markdown",
   "id": "f749cfc6",
   "metadata": {},
   "source": [
    "*DESCRIPTION OF EACH COLUMN*\n",
    "- ph: pH of 1. water (0 to 14).\n",
    "- Hardness: Capacity of water to precipitate soap in mg/L.\n",
    "- Solids: Total dissolved solids in ppm.\n",
    "- Chloramines: Amount of Chloramines in ppm.\n",
    "- Sulfate: Amount of Sulfates dissolved in mg/L.\n",
    "- Conductivity: Electrical conductivity of water in μS/cm.\n",
    "- Organic_carbon: Amount of organic carbon in ppm.\n",
    "- Trihalomethanes: Amount of Trihalomethanes in μg/L.\n",
    "- Turbidity: Measure of light emiting property of water in NTU.\n",
    "- Potability: Indicates if water is safe for human consumption. Potable - 1 and Not potable - 0"
   ]
  },
  {
   "cell_type": "code",
   "execution_count": 3,
   "id": "a90a83a2",
   "metadata": {},
   "outputs": [
    {
     "data": {
      "image/png": "[encoded data removed]",
      "text/plain": [
       "<Figure size 400x100 with 1 Axes>"
      ]
     },
     "metadata": {},
     "output_type": "display_data"
    }
   ],
   "source": [
    "# Determine the colors which we will use in the whole project\n",
    "colors = ['#DFF6FF','#47B5FF','#256D85',\"#06283D\"]\n",
    "sns.palplot(colors)"
   ]
  },
  {
   "cell_type": "code",
   "execution_count": 4,
   "id": "cb87a36f",
   "metadata": {},
   "outputs": [
    {
     "data": {
      "text/html": [
       "<div>\n",
       "<style scoped>\n",
       "    .dataframe tbody tr th:only-of-type {\n",
       "        vertical-align: middle;\n",
       "    }\n",
       "\n",
       "    .dataframe tbody tr th {\n",
       "        vertical-align: top;\n",
       "    }\n",
       "\n",
       "    .dataframe thead th {\n",
       "        text-align: right;\n",
       "    }\n",
       "</style>\n",
       "<table border=\"1\" class=\"dataframe\">\n",
       "  <thead>\n",
       "    <tr style=\"text-align: right;\">\n",
       "      <th></th>\n",
       "      <th>0</th>\n",
       "      <th>1</th>\n",
       "      <th>2</th>\n",
       "      <th>3</th>\n",
       "      <th>4</th>\n",
       "    </tr>\n",
       "  </thead>\n",
       "  <tbody>\n",
       "    <tr>\n",
       "      <th>ph</th>\n",
       "      <td>NaN</td>\n",
       "      <td>3.716080</td>\n",
       "      <td>8.099124</td>\n",
       "      <td>8.316766</td>\n",
       "      <td>9.092223</td>\n",
       "    </tr>\n",
       "    <tr>\n",
       "      <th>hardness</th>\n",
       "      <td>204.890455</td>\n",
       "      <td>129.422921</td>\n",
       "      <td>224.236259</td>\n",
       "      <td>214.373394</td>\n",
       "      <td>181.101509</td>\n",
       "    </tr>\n",
       "    <tr>\n",
       "      <th>solids</th>\n",
       "      <td>20791.318981</td>\n",
       "      <td>18630.057858</td>\n",
       "      <td>19909.541732</td>\n",
       "      <td>22018.417441</td>\n",
       "      <td>17978.986339</td>\n",
       "    </tr>\n",
       "    <tr>\n",
       "      <th>chloramines</th>\n",
       "      <td>7.300212</td>\n",
       "      <td>6.635246</td>\n",
       "      <td>9.275884</td>\n",
       "      <td>8.059332</td>\n",
       "      <td>6.546600</td>\n",
       "    </tr>\n",
       "    <tr>\n",
       "      <th>sulfate</th>\n",
       "      <td>368.516441</td>\n",
       "      <td>NaN</td>\n",
       "      <td>NaN</td>\n",
       "      <td>356.886136</td>\n",
       "      <td>310.135738</td>\n",
       "    </tr>\n",
       "    <tr>\n",
       "      <th>conductivity</th>\n",
       "      <td>564.308654</td>\n",
       "      <td>592.885359</td>\n",
       "      <td>418.606213</td>\n",
       "      <td>363.266516</td>\n",
       "      <td>398.410813</td>\n",
       "    </tr>\n",
       "    <tr>\n",
       "      <th>organic_carbon</th>\n",
       "      <td>10.379783</td>\n",
       "      <td>15.180013</td>\n",
       "      <td>16.868637</td>\n",
       "      <td>18.436524</td>\n",
       "      <td>11.558279</td>\n",
       "    </tr>\n",
       "    <tr>\n",
       "      <th>trihalomethanes</th>\n",
       "      <td>86.990970</td>\n",
       "      <td>56.329076</td>\n",
       "      <td>66.420093</td>\n",
       "      <td>100.341674</td>\n",
       "      <td>31.997993</td>\n",
       "    </tr>\n",
       "    <tr>\n",
       "      <th>turbidity</th>\n",
       "      <td>2.963135</td>\n",
       "      <td>4.500656</td>\n",
       "      <td>3.055934</td>\n",
       "      <td>4.628771</td>\n",
       "      <td>4.075075</td>\n",
       "    </tr>\n",
       "    <tr>\n",
       "      <th>potability</th>\n",
       "      <td>0.000000</td>\n",
       "      <td>0.000000</td>\n",
       "      <td>0.000000</td>\n",
       "      <td>0.000000</td>\n",
       "      <td>0.000000</td>\n",
       "    </tr>\n",
       "  </tbody>\n",
       "</table>\n",
       "</div>"
      ],
      "text/plain": [
       "                            0             1             2             3  \\\n",
       "ph                        NaN      3.716080      8.099124      8.316766   \n",
       "hardness           204.890455    129.422921    224.236259    214.373394   \n",
       "solids           20791.318981  18630.057858  19909.541732  22018.417441   \n",
       "chloramines          7.300212      6.635246      9.275884      8.059332   \n",
       "sulfate            368.516441           NaN           NaN    356.886136   \n",
       "conductivity       564.308654    592.885359    418.606213    363.266516   \n",
       "organic_carbon      10.379783     15.180013     16.868637     18.436524   \n",
       "trihalomethanes     86.990970     56.329076     66.420093    100.341674   \n",
       "turbidity            2.963135      4.500656      3.055934      4.628771   \n",
       "potability           0.000000      0.000000      0.000000      0.000000   \n",
       "\n",
       "                            4  \n",
       "ph                   9.092223  \n",
       "hardness           181.101509  \n",
       "solids           17978.986339  \n",
       "chloramines          6.546600  \n",
       "sulfate            310.135738  \n",
       "conductivity       398.410813  \n",
       "organic_carbon      11.558279  \n",
       "trihalomethanes     31.997993  \n",
       "turbidity            4.075075  \n",
       "potability           0.000000  "
      ]
     },
     "execution_count": 4,
     "metadata": {},
     "output_type": "execute_result"
    }
   ],
   "source": [
    "# Uniform the columns and records to avoid the inconsistencies\n",
    "df.columns = df.columns.str.lower().str.replace(' ','_')\n",
    "df.head().T"
   ]
  },
  {
   "cell_type": "markdown",
   "id": "18648ae6",
   "metadata": {},
   "source": [
    "# Impute Missing Values with MEAN"
   ]
  },
  {
   "cell_type": "code",
   "execution_count": 5,
   "id": "14861311",
   "metadata": {},
   "outputs": [],
   "source": [
    "nan_data_numerical = round(100*(df.isna().sum())/(len(df.index)), 2).sort_values(ascending = False).to_frame()"
   ]
  },
  {
   "cell_type": "code",
   "execution_count": 6,
   "id": "38a7f731",
   "metadata": {},
   "outputs": [
    {
     "data": {
      "image/png": "[encoded data removed]",
      "text/plain": [
       "<Figure size 1000x750 with 2 Axes>"
      ]
     },
     "metadata": {},
     "output_type": "display_data"
    }
   ],
   "source": [
    "fig, axs = plt.subplots(1,1, figsize=(10,7.5))\n",
    "plt1 = sns.heatmap(nan_data_numerical, annot = True, cmap = colors, ax = axs)\n",
    "#axs.set_title('Numerical Columns\\n',fontweight = 'bold',fontsize=15)\n",
    "plt.suptitle('MISSING VALUES \\n PER COLUMN\\n', fontsize=20, fontweight = 'bold')\n",
    "plt.tight_layout()"
   ]
  },
  {
   "cell_type": "code",
   "execution_count": 7,
   "id": "b6af3708",
   "metadata": {},
   "outputs": [],
   "source": [
    "data = df.copy()"
   ]
  },
  {
   "cell_type": "code",
   "execution_count": 8,
   "id": "38407ede",
   "metadata": {},
   "outputs": [],
   "source": [
    "list_nan_features = list(nan_data_numerical[nan_data_numerical[0] > 0 ].index)\n",
    "for col in list_nan_features:\n",
    "    data[col] = data[col].replace(np.nan, data[col].median())"
   ]
  },
  {
   "cell_type": "code",
   "execution_count": 9,
   "id": "5bab6640",
   "metadata": {},
   "outputs": [
    {
     "data": {
      "text/html": [
       "<div>\n",
       "<style scoped>\n",
       "    .dataframe tbody tr th:only-of-type {\n",
       "        vertical-align: middle;\n",
       "    }\n",
       "\n",
       "    .dataframe tbody tr th {\n",
       "        vertical-align: top;\n",
       "    }\n",
       "\n",
       "    .dataframe thead th {\n",
       "        text-align: right;\n",
       "    }\n",
       "</style>\n",
       "<table border=\"1\" class=\"dataframe\">\n",
       "  <thead>\n",
       "    <tr style=\"text-align: right;\">\n",
       "      <th></th>\n",
       "      <th>count</th>\n",
       "    </tr>\n",
       "  </thead>\n",
       "  <tbody>\n",
       "    <tr>\n",
       "      <th>Not Potability</th>\n",
       "      <td>1998</td>\n",
       "    </tr>\n",
       "    <tr>\n",
       "      <th>Potability</th>\n",
       "      <td>1278</td>\n",
       "    </tr>\n",
       "  </tbody>\n",
       "</table>\n",
       "</div>"
      ],
      "text/plain": [
       "                count\n",
       "Not Potability   1998\n",
       "Potability       1278"
      ]
     },
     "execution_count": 9,
     "metadata": {},
     "output_type": "execute_result"
    }
   ],
   "source": [
    "df_potability_compare = pd.DataFrame(data.potability.value_counts().values, index=['Not Potability','Potability'],columns = ['count'])\n",
    "df_potability_compare"
   ]
  },
  {
   "cell_type": "code",
   "execution_count": 10,
   "id": "ac4a3e02",
   "metadata": {},
   "outputs": [
    {
     "data": {
      "application/vnd.plotly.v1+json": {
       "config": {
        "plotlyServerURL": "https://plot.ly"
       },
       "data": [
        {
         "domain": {
          "x": [
           0,
           1
          ],
          "y": [
           0,
           1
          ]
         },
         "hole": 0.4,
         "hovertemplate": "label=%{label}<br>count=%{value}<extra></extra>",
         "labels": [
          "Not Potability",
          "Potability"
         ],
         "legendgroup": "",
         "name": "",
         "opacity": 0.9,
         "showlegend": true,
         "textinfo": "percent+label",
         "textposition": "outside",
         "type": "pie",
         "values": [
          1998,
          1278
         ]
        }
       ],
       "layout": {
        "annotations": [
         {
          "align": "left",
          "arrowcolor": "#06283D",
          "arrowhead": 1,
          "arrowsize": 1,
          "arrowwidth": 2,
          "ax": -100,
          "ay": -50,
          "bgcolor": "#DFF6FF",
          "bordercolor": "#06283D",
          "borderwidth": 2,
          "font": {
           "color": "#256D85",
           "family": "monospace",
           "size": 20
          },
          "opacity": 0.7,
          "showarrow": true,
          "text": "We can see that the data<br>showing an imbalanced dataset",
          "x": 0.15,
          "y": 0.7,
          "yanchor": "bottom"
         },
         {
          "align": "left",
          "font": {
           "color": "#256D85",
           "size": 12
          },
          "showarrow": false,
          "text": "@budisumandra / 2023-02-12",
          "x": 0.15,
          "xanchor": "left",
          "xref": "paper",
          "xshift": -1,
          "y": -0.15,
          "yanchor": "bottom",
          "yref": "paper",
          "yshift": -5
         },
         {
          "font": {
           "family": "Gravitas One",
           "size": 14
          },
          "opacity": 0.7,
          "showarrow": false,
          "text": "Potability Composition<br>for Next Feature Analysis",
          "x": 0.5,
          "y": 0.5
         }
        ],
        "font": {
         "family": "Gravitas One"
        },
        "hoverlabel": {
         "bgcolor": "#06283D"
        },
        "legend": {
         "orientation": "h",
         "tracegroupgap": 0,
         "traceorder": "reversed",
         "x": 0.405,
         "y": -0.08
        },
        "margin": {
         "t": 60
        },
        "piecolorway": [
         "#06283D",
         "#47B5FF"
        ],
        "template": {
         "data": {
          "bar": [
           {
            "error_x": {
             "color": "#2a3f5f"
            },
            "error_y": {
             "color": "#2a3f5f"
            },
            "marker": {
             "line": {
              "color": "#E5ECF6",
              "width": 0.5
             },
             "pattern": {
              "fillmode": "overlay",
              "size": 10,
              "solidity": 0.2
             }
            },
            "type": "bar"
           }
          ],
          "barpolar": [
           {
            "marker": {
             "line": {
              "color": "#E5ECF6",
              "width": 0.5
             },
             "pattern": {
              "fillmode": "overlay",
              "size": 10,
              "solidity": 0.2
             }
            },
            "type": "barpolar"
           }
          ],
          "carpet": [
           {
            "aaxis": {
             "endlinecolor": "#2a3f5f",
             "gridcolor": "white",
             "linecolor": "white",
             "minorgridcolor": "white",
             "startlinecolor": "#2a3f5f"
            },
            "baxis": {
             "endlinecolor": "#2a3f5f",
             "gridcolor": "white",
             "linecolor": "white",
             "minorgridcolor": "white",
             "startlinecolor": "#2a3f5f"
            },
            "type": "carpet"
           }
          ],
          "choropleth": [
           {
            "colorbar": {
             "outlinewidth": 0,
             "ticks": ""
            },
            "type": "choropleth"
           }
          ],
          "contour": [
           {
            "colorbar": {
             "outlinewidth": 0,
             "ticks": ""
            },
            "colorscale": [
             [
              0,
              "#0d0887"
             ],
             [
              0.1111111111111111,
              "#46039f"
             ],
             [
              0.2222222222222222,
              "#7201a8"
             ],
             [
              0.3333333333333333,
              "#9c179e"
             ],
             [
              0.4444444444444444,
              "#bd3786"
             ],
             [
              0.5555555555555556,
              "#d8576b"
             ],
             [
              0.6666666666666666,
              "#ed7953"
             ],
             [
              0.7777777777777778,
              "#fb9f3a"
             ],
             [
              0.8888888888888888,
              "#fdca26"
             ],
             [
              1,
              "#f0f921"
             ]
            ],
            "type": "contour"
           }
          ],
          "contourcarpet": [
           {
            "colorbar": {
             "outlinewidth": 0,
             "ticks": ""
            },
            "type": "contourcarpet"
           }
          ],
          "heatmap": [
           {
            "colorbar": {
             "outlinewidth": 0,
             "ticks": ""
            },
            "colorscale": [
             [
              0,
              "#0d0887"
             ],
             [
              0.1111111111111111,
              "#46039f"
             ],
             [
              0.2222222222222222,
              "#7201a8"
             ],
             [
              0.3333333333333333,
              "#9c179e"
             ],
             [
              0.4444444444444444,
              "#bd3786"
             ],
             [
              0.5555555555555556,
              "#d8576b"
             ],
             [
              0.6666666666666666,
              "#ed7953"
             ],
             [
              0.7777777777777778,
              "#fb9f3a"
             ],
             [
              0.8888888888888888,
              "#fdca26"
             ],
             [
              1,
              "#f0f921"
             ]
            ],
            "type": "heatmap"
           }
          ],
          "heatmapgl": [
           {
            "colorbar": {
             "outlinewidth": 0,
             "ticks": ""
            },
            "colorscale": [
             [
              0,
              "#0d0887"
             ],
             [
              0.1111111111111111,
              "#46039f"
             ],
             [
              0.2222222222222222,
              "#7201a8"
             ],
             [
              0.3333333333333333,
              "#9c179e"
             ],
             [
              0.4444444444444444,
              "#bd3786"
             ],
             [
              0.5555555555555556,
              "#d8576b"
             ],
             [
              0.6666666666666666,
              "#ed7953"
             ],
             [
              0.7777777777777778,
              "#fb9f3a"
             ],
             [
              0.8888888888888888,
              "#fdca26"
             ],
             [
              1,
              "#f0f921"
             ]
            ],
            "type": "heatmapgl"
           }
          ],
          "histogram": [
           {
            "marker": {
             "pattern": {
              "fillmode": "overlay",
              "size": 10,
              "solidity": 0.2
             }
            },
            "type": "histogram"
           }
          ],
          "histogram2d": [
           {
            "colorbar": {
             "outlinewidth": 0,
             "ticks": ""
            },
            "colorscale": [
             [
              0,
              "#0d0887"
             ],
             [
              0.1111111111111111,
              "#46039f"
             ],
             [
              0.2222222222222222,
              "#7201a8"
             ],
             [
              0.3333333333333333,
              "#9c179e"
             ],
             [
              0.4444444444444444,
              "#bd3786"
             ],
             [
              0.5555555555555556,
              "#d8576b"
             ],
             [
              0.6666666666666666,
              "#ed7953"
             ],
             [
              0.7777777777777778,
              "#fb9f3a"
             ],
             [
              0.8888888888888888,
              "#fdca26"
             ],
             [
              1,
              "#f0f921"
             ]
            ],
            "type": "histogram2d"
           }
          ],
          "histogram2dcontour": [
           {
            "colorbar": {
             "outlinewidth": 0,
             "ticks": ""
            },
            "colorscale": [
             [
              0,
              "#0d0887"
             ],
             [
              0.1111111111111111,
              "#46039f"
             ],
             [
              0.2222222222222222,
              "#7201a8"
             ],
             [
              0.3333333333333333,
              "#9c179e"
             ],
             [
              0.4444444444444444,
              "#bd3786"
             ],
             [
              0.5555555555555556,
              "#d8576b"
             ],
             [
              0.6666666666666666,
              "#ed7953"
             ],
             [
              0.7777777777777778,
              "#fb9f3a"
             ],
             [
              0.8888888888888888,
              "#fdca26"
             ],
             [
              1,
              "#f0f921"
             ]
            ],
            "type": "histogram2dcontour"
           }
          ],
          "mesh3d": [
           {
            "colorbar": {
             "outlinewidth": 0,
             "ticks": ""
            },
            "type": "mesh3d"
           }
          ],
          "parcoords": [
           {
            "line": {
             "colorbar": {
              "outlinewidth": 0,
              "ticks": ""
             }
            },
            "type": "parcoords"
           }
          ],
          "pie": [
           {
            "automargin": true,
            "type": "pie"
           }
          ],
          "scatter": [
           {
            "fillpattern": {
             "fillmode": "overlay",
             "size": 10,
             "solidity": 0.2
            },
            "type": "scatter"
           }
          ],
          "scatter3d": [
           {
            "line": {
             "colorbar": {
              "outlinewidth": 0,
              "ticks": ""
             }
            },
            "marker": {
             "colorbar": {
              "outlinewidth": 0,
              "ticks": ""
             }
            },
            "type": "scatter3d"
           }
          ],
          "scattercarpet": [
           {
            "marker": {
             "colorbar": {
              "outlinewidth": 0,
              "ticks": ""
             }
            },
            "type": "scattercarpet"
           }
          ],
          "scattergeo": [
           {
            "marker": {
             "colorbar": {
              "outlinewidth": 0,
              "ticks": ""
             }
            },
            "type": "scattergeo"
           }
          ],
          "scattergl": [
           {
            "marker": {
             "colorbar": {
              "outlinewidth": 0,
              "ticks": ""
             }
            },
            "type": "scattergl"
           }
          ],
          "scattermapbox": [
           {
            "marker": {
             "colorbar": {
              "outlinewidth": 0,
              "ticks": ""
             }
            },
            "type": "scattermapbox"
           }
          ],
          "scatterpolar": [
           {
            "marker": {
             "colorbar": {
              "outlinewidth": 0,
              "ticks": ""
             }
            },
            "type": "scatterpolar"
           }
          ],
          "scatterpolargl": [
           {
            "marker": {
             "colorbar": {
              "outlinewidth": 0,
              "ticks": ""
             }
            },
            "type": "scatterpolargl"
           }
          ],
          "scatterternary": [
           {
            "marker": {
             "colorbar": {
              "outlinewidth": 0,
              "ticks": ""
             }
            },
            "type": "scatterternary"
           }
          ],
          "surface": [
           {
            "colorbar": {
             "outlinewidth": 0,
             "ticks": ""
            },
            "colorscale": [
             [
              0,
              "#0d0887"
             ],
             [
              0.1111111111111111,
              "#46039f"
             ],
             [
              0.2222222222222222,
              "#7201a8"
             ],
             [
              0.3333333333333333,
              "#9c179e"
             ],
             [
              0.4444444444444444,
              "#bd3786"
             ],
             [
              0.5555555555555556,
              "#d8576b"
             ],
             [
              0.6666666666666666,
              "#ed7953"
             ],
             [
              0.7777777777777778,
              "#fb9f3a"
             ],
             [
              0.8888888888888888,
              "#fdca26"
             ],
             [
              1,
              "#f0f921"
             ]
            ],
            "type": "surface"
           }
          ],
          "table": [
           {
            "cells": {
             "fill": {
              "color": "#EBF0F8"
             },
             "line": {
              "color": "white"
             }
            },
            "header": {
             "fill": {
              "color": "#C8D4E3"
             },
             "line": {
              "color": "white"
             }
            },
            "type": "table"
           }
          ]
         },
         "layout": {
          "annotationdefaults": {
           "arrowcolor": "#2a3f5f",
           "arrowhead": 0,
           "arrowwidth": 1
          },
          "autotypenumbers": "strict",
          "coloraxis": {
           "colorbar": {
            "outlinewidth": 0,
            "ticks": ""
           }
          },
          "colorscale": {
           "diverging": [
            [
             0,
             "#8e0152"
            ],
            [
             0.1,
             "#c51b7d"
            ],
            [
             0.2,
             "#de77ae"
            ],
            [
             0.3,
             "#f1b6da"
            ],
            [
             0.4,
             "#fde0ef"
            ],
            [
             0.5,
             "#f7f7f7"
            ],
            [
             0.6,
             "#e6f5d0"
            ],
            [
             0.7,
             "#b8e186"
            ],
            [
             0.8,
             "#7fbc41"
            ],
            [
             0.9,
             "#4d9221"
            ],
            [
             1,
             "#276419"
            ]
           ],
           "sequential": [
            [
             0,
             "#0d0887"
            ],
            [
             0.1111111111111111,
             "#46039f"
            ],
            [
             0.2222222222222222,
             "#7201a8"
            ],
            [
             0.3333333333333333,
             "#9c179e"
            ],
            [
             0.4444444444444444,
             "#bd3786"
            ],
            [
             0.5555555555555556,
             "#d8576b"
            ],
            [
             0.6666666666666666,
             "#ed7953"
            ],
            [
             0.7777777777777778,
             "#fb9f3a"
            ],
            [
             0.8888888888888888,
             "#fdca26"
            ],
            [
             1,
             "#f0f921"
            ]
           ],
           "sequentialminus": [
            [
             0,
             "#0d0887"
            ],
            [
             0.1111111111111111,
             "#46039f"
            ],
            [
             0.2222222222222222,
             "#7201a8"
            ],
            [
             0.3333333333333333,
             "#9c179e"
            ],
            [
             0.4444444444444444,
             "#bd3786"
            ],
            [
             0.5555555555555556,
             "#d8576b"
            ],
            [
             0.6666666666666666,
             "#ed7953"
            ],
            [
             0.7777777777777778,
             "#fb9f3a"
            ],
            [
             0.8888888888888888,
             "#fdca26"
            ],
            [
             1,
             "#f0f921"
            ]
           ]
          },
          "colorway": [
           "#636efa",
           "#EF553B",
           "#00cc96",
           "#ab63fa",
           "#FFA15A",
           "#19d3f3",
           "#FF6692",
           "#B6E880",
           "#FF97FF",
           "#FECB52"
          ],
          "font": {
           "color": "#2a3f5f"
          },
          "geo": {
           "bgcolor": "white",
           "lakecolor": "white",
           "landcolor": "#E5ECF6",
           "showlakes": true,
           "showland": true,
           "subunitcolor": "white"
          },
          "hoverlabel": {
           "align": "left"
          },
          "hovermode": "closest",
          "mapbox": {
           "style": "light"
          },
          "paper_bgcolor": "white",
          "plot_bgcolor": "#E5ECF6",
          "polar": {
           "angularaxis": {
            "gridcolor": "white",
            "linecolor": "white",
            "ticks": ""
           },
           "bgcolor": "#E5ECF6",
           "radialaxis": {
            "gridcolor": "white",
            "linecolor": "white",
            "ticks": ""
           }
          },
          "scene": {
           "xaxis": {
            "backgroundcolor": "#E5ECF6",
            "gridcolor": "white",
            "gridwidth": 2,
            "linecolor": "white",
            "showbackground": true,
            "ticks": "",
            "zerolinecolor": "white"
           },
           "yaxis": {
            "backgroundcolor": "#E5ECF6",
            "gridcolor": "white",
            "gridwidth": 2,
            "linecolor": "white",
            "showbackground": true,
            "ticks": "",
            "zerolinecolor": "white"
           },
           "zaxis": {
            "backgroundcolor": "#E5ECF6",
            "gridcolor": "white",
            "gridwidth": 2,
            "linecolor": "white",
            "showbackground": true,
            "ticks": "",
            "zerolinecolor": "white"
           }
          },
          "shapedefaults": {
           "line": {
            "color": "#2a3f5f"
           }
          },
          "ternary": {
           "aaxis": {
            "gridcolor": "white",
            "linecolor": "white",
            "ticks": ""
           },
           "baxis": {
            "gridcolor": "white",
            "linecolor": "white",
            "ticks": ""
           },
           "bgcolor": "#E5ECF6",
           "caxis": {
            "gridcolor": "white",
            "linecolor": "white",
            "ticks": ""
           }
          },
          "title": {
           "x": 0.05
          },
          "xaxis": {
           "automargin": true,
           "gridcolor": "white",
           "linecolor": "white",
           "ticks": "",
           "title": {
            "standoff": 15
           },
           "zerolinecolor": "white",
           "zerolinewidth": 2
          },
          "yaxis": {
           "automargin": true,
           "gridcolor": "white",
           "linecolor": "white",
           "ticks": "",
           "title": {
            "standoff": 15
           },
           "zerolinecolor": "white",
           "zerolinewidth": 2
          }
         }
        },
        "title": {
         "font": {
          "color": "#06283D",
          "size": 20
         },
         "text": "Potability Composition",
         "x": 0.5,
         "y": 0.98
        }
       }
      }
     },
     "metadata": {},
     "output_type": "display_data"
    }
   ],
   "source": [
    "\n",
    "today = date.today()\n",
    "\n",
    "fig = px.pie(df_potability_compare.sort_values('count',ascending=False),values='count',names=df_potability_compare.sort_values('count',ascending=False).index,hole=0.4,opacity=0.9,\n",
    "             color_discrete_sequence=[colors[3],colors[1]])\n",
    "\n",
    "\n",
    "# Add annotation\n",
    "fig.add_annotation(x=0.15, y=0.7, text=(f\"We can see that the data<br>showing an imbalanced dataset\"), yanchor='bottom', showarrow=True, arrowhead=1, arrowsize=1\n",
    "    , arrowwidth=2, arrowcolor=colors[3], ax=-100, ay=-50, font=dict(size=20, color=colors[2], family=\"monospace\"), align=\"left\", bordercolor=colors[3], borderwidth=2\n",
    "    , bgcolor=colors[0], opacity=0.7)\n",
    "#Add footnote\n",
    "fig.add_annotation(\n",
    "    text = (f\"@budisumandra / {today}\"),showarrow=False,x=0.15,y=-0.15,xref='paper',yref='paper',xanchor='left',yanchor='bottom',xshift=-1,yshift=-5,\n",
    "    font=dict(size=12,color=colors[2]),align='left')\n",
    "\n",
    "fig.add_annotation(text='Potability Composition<br>for Next Feature Analysis', x=0.5,y=0.5,showarrow=False,\\\n",
    "                   font_size=14,opacity=0.7,font_family='Gravitas One')\n",
    "\n",
    "fig.update_layout(font_family='Gravitas One',title=dict(text='Potability Composition',x=0.5,y=0.98,\n",
    "                font=dict(color=colors[3],size=20)),legend=dict(x=0.405,y=-0.08,orientation='h',traceorder='reversed'), hoverlabel=dict(bgcolor=colors[3]))\n",
    "\n",
    "fig.update_traces(textposition='outside', textinfo='percent+label')\n",
    "\n",
    "fig.show()"
   ]
  },
  {
   "cell_type": "code",
   "execution_count": null,
   "id": "4052527e",
   "metadata": {},
   "outputs": [],
   "source": []
  },
  {
   "cell_type": "code",
   "execution_count": 11,
   "id": "60df7dcc",
   "metadata": {},
   "outputs": [
    {
     "data": {
      "text/html": [
       "<div>\n",
       "<style scoped>\n",
       "    .dataframe tbody tr th:only-of-type {\n",
       "        vertical-align: middle;\n",
       "    }\n",
       "\n",
       "    .dataframe tbody tr th {\n",
       "        vertical-align: top;\n",
       "    }\n",
       "\n",
       "    .dataframe thead th {\n",
       "        text-align: right;\n",
       "    }\n",
       "</style>\n",
       "<table border=\"1\" class=\"dataframe\">\n",
       "  <thead>\n",
       "    <tr style=\"text-align: right;\">\n",
       "      <th></th>\n",
       "      <th>corr_coef_value</th>\n",
       "    </tr>\n",
       "  </thead>\n",
       "  <tbody>\n",
       "    <tr>\n",
       "      <th>potability</th>\n",
       "      <td>1.000000</td>\n",
       "    </tr>\n",
       "    <tr>\n",
       "      <th>solids</th>\n",
       "      <td>0.033743</td>\n",
       "    </tr>\n",
       "    <tr>\n",
       "      <th>chloramines</th>\n",
       "      <td>0.023779</td>\n",
       "    </tr>\n",
       "    <tr>\n",
       "      <th>trihalomethanes</th>\n",
       "      <td>0.006887</td>\n",
       "    </tr>\n",
       "    <tr>\n",
       "      <th>turbidity</th>\n",
       "      <td>0.001581</td>\n",
       "    </tr>\n",
       "    <tr>\n",
       "      <th>ph</th>\n",
       "      <td>-0.003014</td>\n",
       "    </tr>\n",
       "    <tr>\n",
       "      <th>conductivity</th>\n",
       "      <td>-0.008128</td>\n",
       "    </tr>\n",
       "    <tr>\n",
       "      <th>hardness</th>\n",
       "      <td>-0.013837</td>\n",
       "    </tr>\n",
       "    <tr>\n",
       "      <th>sulfate</th>\n",
       "      <td>-0.020476</td>\n",
       "    </tr>\n",
       "    <tr>\n",
       "      <th>organic_carbon</th>\n",
       "      <td>-0.030001</td>\n",
       "    </tr>\n",
       "  </tbody>\n",
       "</table>\n",
       "</div>"
      ],
      "text/plain": [
       "                 corr_coef_value\n",
       "potability              1.000000\n",
       "solids                  0.033743\n",
       "chloramines             0.023779\n",
       "trihalomethanes         0.006887\n",
       "turbidity               0.001581\n",
       "ph                     -0.003014\n",
       "conductivity           -0.008128\n",
       "hardness               -0.013837\n",
       "sulfate                -0.020476\n",
       "organic_carbon         -0.030001"
      ]
     },
     "execution_count": 11,
     "metadata": {},
     "output_type": "execute_result"
    }
   ],
   "source": [
    "df_corr_coef = pd.DataFrame(data.corrwith(data.potability),columns = ['corr_coef_value']).sort_values(ascending=False, by='corr_coef_value')\n",
    "df_corr_coef"
   ]
  },
  {
   "cell_type": "markdown",
   "id": "b5cfc4e2",
   "metadata": {},
   "source": [
    "## SPLIT DATASET"
   ]
  },
  {
   "cell_type": "code",
   "execution_count": 12,
   "id": "bedb8d4e",
   "metadata": {},
   "outputs": [],
   "source": [
    "df_train_full, df_test = train_test_split(data,test_size=0.2, random_state=1)\n",
    "df_train, df_val = train_test_split(df_train_full, test_size=0.3, random_state=1)"
   ]
  },
  {
   "cell_type": "code",
   "execution_count": 13,
   "id": "760a3caa",
   "metadata": {},
   "outputs": [
    {
     "name": "stdout",
     "output_type": "stream",
     "text": [
      "(3276, 10)>>(1834, 10)|(656, 10)|(786, 10)\n"
     ]
    }
   ],
   "source": [
    "print('{}>>{}|{}|{}'.format(data.shape,df_train.shape, df_test.shape,df_val.shape))"
   ]
  },
  {
   "cell_type": "code",
   "execution_count": 14,
   "id": "bc8328e2",
   "metadata": {},
   "outputs": [],
   "source": [
    "y_train = df_train.potability.values\n",
    "y_val = df_val.potability.values\n",
    "\n",
    "del df_train['potability']\n",
    "del df_val['potability']"
   ]
  },
  {
   "cell_type": "markdown",
   "id": "1807786d",
   "metadata": {},
   "source": [
    "# LOGISTIC REGRESSION"
   ]
  },
  {
   "cell_type": "markdown",
   "id": "641cf457",
   "metadata": {},
   "source": [
    "## FEATURE ENGINEERING\n",
    "**ONE-HOT ENCODING**"
   ]
  },
  {
   "cell_type": "code",
   "execution_count": 15,
   "id": "1133530b",
   "metadata": {},
   "outputs": [],
   "source": [
    "# Make a function named \"train\" with parameter \"df\" and \"y\" which can be reproduceable to another dataframe\n",
    "def train(df,y):\n",
    "    dv = DictVectorizer(sparse=False)\n",
    "    cat = df.to_dict(orient='records')\n",
    "    dv.fit(cat)\n",
    "    X = dv.transform(cat)\n",
    "    model = LogisticRegression(solver='liblinear', random_state=1)\n",
    "    model.fit(X,y)\n",
    "    return dv, model"
   ]
  },
  {
   "cell_type": "code",
   "execution_count": 16,
   "id": "2da2b030",
   "metadata": {},
   "outputs": [],
   "source": [
    "def predict(df, dv, model):\n",
    "    cat = df.to_dict(orient='records')\n",
    "    X = dv.transform(cat)\n",
    "    y_pred = model.predict_proba(X)[:,1]\n",
    "    \n",
    "    return y_pred"
   ]
  },
  {
   "cell_type": "code",
   "execution_count": 17,
   "id": "b48b66f2",
   "metadata": {},
   "outputs": [],
   "source": [
    "dv, model = train(df_train,y_train)"
   ]
  },
  {
   "cell_type": "code",
   "execution_count": 18,
   "id": "ffd5fcad",
   "metadata": {},
   "outputs": [],
   "source": [
    "y_pred = predict(df_val, dv, model)"
   ]
  },
  {
   "cell_type": "code",
   "execution_count": 19,
   "id": "9678e288",
   "metadata": {},
   "outputs": [
    {
     "name": "stdout",
     "output_type": "stream",
     "text": [
      "t = 0.00 || acc = 0.364\n",
      "t = 0.10 || acc = 0.364\n",
      "t = 0.20 || acc = 0.364\n",
      "t = 0.30 || acc = 0.363\n",
      "t = 0.40 || acc = 0.545\n",
      "t = 0.50 || acc = 0.636\n",
      "t = 0.60 || acc = 0.636\n",
      "t = 0.70 || acc = 0.636\n",
      "t = 0.80 || acc = 0.636\n",
      "t = 0.90 || acc = 0.636\n",
      "t = 1.00 || acc = 0.636\n"
     ]
    }
   ],
   "source": [
    "thresholds = np.linspace(0,1,11)\n",
    "for t in thresholds:\n",
    "    potability = y_pred >= t\n",
    "    acc = accuracy_score(y_val, potability)\n",
    "    print('t = %0.2f || acc = %0.3f' % (t, acc))"
   ]
  },
  {
   "cell_type": "code",
   "execution_count": 20,
   "id": "a8ebb7b6",
   "metadata": {},
   "outputs": [],
   "source": [
    "potability = y_pred >= 0.5"
   ]
  },
  {
   "cell_type": "code",
   "execution_count": 21,
   "id": "9581d267",
   "metadata": {},
   "outputs": [
    {
     "name": "stdout",
     "output_type": "stream",
     "text": [
      "Output: 0.636\n"
     ]
    }
   ],
   "source": [
    "print('Output: %0.3f' % (y_val == potability).mean())"
   ]
  },
  {
   "cell_type": "markdown",
   "id": "aea2b3ce",
   "metadata": {},
   "source": [
    "# DECISION TREE"
   ]
  },
  {
   "cell_type": "code",
   "execution_count": 22,
   "id": "11c9ac0a",
   "metadata": {},
   "outputs": [],
   "source": [
    "from sklearn.tree import DecisionTreeClassifier"
   ]
  },
  {
   "cell_type": "code",
   "execution_count": 23,
   "id": "040d884b",
   "metadata": {},
   "outputs": [],
   "source": [
    "df_train_full, df_test = train_test_split(data,test_size=0.2, random_state=1)\n",
    "df_train, df_val = train_test_split(df_train_full, test_size=0.3, random_state=1)"
   ]
  },
  {
   "cell_type": "code",
   "execution_count": 24,
   "id": "f824e187",
   "metadata": {},
   "outputs": [
    {
     "data": {
      "text/plain": [
       "0    1125\n",
       "1     709\n",
       "Name: potability, dtype: int64"
      ]
     },
     "execution_count": 24,
     "metadata": {},
     "output_type": "execute_result"
    }
   ],
   "source": [
    "df_train.potability.value_counts()"
   ]
  },
  {
   "cell_type": "code",
   "execution_count": 25,
   "id": "4d36d87b",
   "metadata": {},
   "outputs": [],
   "source": [
    "y_train = (df_train.potability == 1).values\n",
    "y_val = (df_val.potability == 1).values\n",
    "\n",
    "del df_train['potability']\n",
    "del df_val['potability']"
   ]
  },
  {
   "cell_type": "code",
   "execution_count": 26,
   "id": "e0838142",
   "metadata": {},
   "outputs": [],
   "source": [
    "dict_train = df_train.to_dict(orient='records')\n",
    "dict_val = df_val.to_dict(orient = 'records')"
   ]
  },
  {
   "cell_type": "code",
   "execution_count": 27,
   "id": "706498a8",
   "metadata": {},
   "outputs": [],
   "source": [
    "dv = DictVectorizer(sparse=False)"
   ]
  },
  {
   "cell_type": "code",
   "execution_count": 28,
   "id": "d001065b",
   "metadata": {},
   "outputs": [],
   "source": [
    "X_train = dv.fit_transform(dict_train)\n",
    "X_val = dv.transform(dict_val)"
   ]
  },
  {
   "cell_type": "code",
   "execution_count": 29,
   "id": "acc81852",
   "metadata": {},
   "outputs": [
    {
     "name": "stdout",
     "output_type": "stream",
     "text": [
      "   1 -> 0.508\n",
      "   2 -> 0.535\n",
      "   3 -> 0.537\n",
      "   4 -> 0.569\n",
      "   5 -> 0.573\n",
      "   6 -> 0.586\n",
      "  10 -> 0.591\n",
      "  12 -> 0.576\n",
      "  15 -> 0.608\n",
      "  17 -> 0.605\n",
      "  19 -> 0.584\n",
      "  20 -> 0.584\n",
      "None -> 0.573\n"
     ]
    }
   ],
   "source": [
    "for depth in [1,2,3,4,5,6,10,12,15,17,19,20,None]:\n",
    "    dt = DecisionTreeClassifier(max_depth = depth)\n",
    "    dt.fit(X_train, y_train)\n",
    "    y_pred = dt.predict_proba(X_val)[:,1]\n",
    "    auc = roc_auc_score(y_val, y_pred)\n",
    "    print('%4s -> %.3f' % (depth,auc))"
   ]
  },
  {
   "cell_type": "code",
   "execution_count": 30,
   "id": "e8f8dae7",
   "metadata": {},
   "outputs": [
    {
     "name": "stdout",
     "output_type": "stream",
     "text": [
      "depth: 10\n",
      "1 -> 0.579\n",
      "5 -> 0.590\n",
      "10 -> 0.606\n",
      "15 -> 0.607\n",
      "20 -> 0.607\n",
      "50 -> 0.562\n",
      "100 -> 0.558\n",
      "200 -> 0.551\n",
      "depth: 15\n",
      "1 -> 0.615\n",
      "5 -> 0.625\n",
      "10 -> 0.627\n",
      "15 -> 0.598\n",
      "20 -> 0.603\n",
      "50 -> 0.564\n",
      "100 -> 0.558\n",
      "200 -> 0.551\n",
      "depth: 17\n",
      "1 -> 0.589\n",
      "5 -> 0.603\n",
      "10 -> 0.630\n",
      "15 -> 0.597\n",
      "20 -> 0.592\n",
      "50 -> 0.564\n",
      "100 -> 0.558\n",
      "200 -> 0.551\n",
      "depth: 19\n",
      "1 -> 0.589\n",
      "5 -> 0.606\n",
      "10 -> 0.624\n",
      "15 -> 0.594\n",
      "20 -> 0.591\n",
      "50 -> 0.564\n",
      "100 -> 0.558\n",
      "200 -> 0.551\n"
     ]
    }
   ],
   "source": [
    " for m in [10,15,17,19]:\n",
    "        print('depth: %s' % m)\n",
    "        for s in [1,5,10,15,20,50,100,200]:\n",
    "            dt = DecisionTreeClassifier(max_depth = m, min_samples_leaf=s)\n",
    "            dt.fit(X_train, y_train)\n",
    "            y_pred = dt.predict_proba(X_val)[:,1]\n",
    "            auc = roc_auc_score(y_val, y_pred)\n",
    "            print('%s -> %.3f' % (s,auc))"
   ]
  },
  {
   "cell_type": "markdown",
   "id": "13cf6363",
   "metadata": {},
   "source": [
    "#### THE BEST AUC = 0.633\n",
    "***depth =  15, min_samples_leaf = (1,5,10)***"
   ]
  },
  {
   "cell_type": "code",
   "execution_count": null,
   "id": "f81d58b3",
   "metadata": {},
   "outputs": [],
   "source": []
  },
  {
   "cell_type": "markdown",
   "id": "ba28e82a",
   "metadata": {},
   "source": [
    "## RANDOM FOREST"
   ]
  },
  {
   "cell_type": "code",
   "execution_count": 31,
   "id": "e5a41406",
   "metadata": {},
   "outputs": [],
   "source": [
    "from sklearn.ensemble import RandomForestClassifier"
   ]
  },
  {
   "cell_type": "code",
   "execution_count": 32,
   "id": "c4be7f28",
   "metadata": {},
   "outputs": [
    {
     "name": "stdout",
     "output_type": "stream",
     "text": [
      "10 --> 0.608\n",
      "20 --> 0.634\n",
      "30 --> 0.634\n",
      "40 --> 0.649\n",
      "50 --> 0.650\n",
      "60 --> 0.654\n",
      "70 --> 0.653\n",
      "80 --> 0.654\n",
      "90 --> 0.651\n",
      "100 --> 0.654\n",
      "110 --> 0.654\n",
      "120 --> 0.656\n",
      "130 --> 0.657\n",
      "140 --> 0.658\n",
      "150 --> 0.660\n",
      "160 --> 0.659\n",
      "170 --> 0.657\n",
      "180 --> 0.658\n",
      "190 --> 0.659\n",
      "200 --> 0.661\n"
     ]
    }
   ],
   "source": [
    "aucs = []\n",
    "for i in range(10,201,10):\n",
    "    rf = RandomForestClassifier(n_estimators=i, random_state = 3)\n",
    "    rf.fit(X_train, y_train)\n",
    "    \n",
    "    y_pred = rf.predict_proba(X_val)[:,1]\n",
    "    auc = roc_auc_score(y_val, y_pred)\n",
    "    print('%s --> %.3f' % (i,auc))\n",
    "    \n",
    "    aucs.append(auc)"
   ]
  },
  {
   "cell_type": "code",
   "execution_count": 33,
   "id": "246870ae",
   "metadata": {},
   "outputs": [
    {
     "data": {
      "text/plain": [
       "Text(0, 0.5, 'AUC')"
      ]
     },
     "execution_count": 33,
     "metadata": {},
     "output_type": "execute_result"
    },
    {
     "data": {
      "image/png": "[encoded data removed]",
      "text/plain": [
       "<Figure size 640x480 with 1 Axes>"
      ]
     },
     "metadata": {},
     "output_type": "display_data"
    }
   ],
   "source": [
    "plt.plot(range(10,201,10), aucs)\n",
    "plt.title('Number of trees vs AUC')\n",
    "plt.xlabel('Number of trees')\n",
    "plt.ylabel('AUC')"
   ]
  },
  {
   "cell_type": "code",
   "execution_count": 34,
   "id": "56528c8e",
   "metadata": {},
   "outputs": [
    {
     "name": "stdout",
     "output_type": "stream",
     "text": [
      "depth : 15\n",
      "10 --> 0.611\n",
      "20 --> 0.625\n",
      "30 --> 0.616\n",
      "40 --> 0.626\n",
      "50 --> 0.633\n",
      "60 --> 0.637\n",
      "70 --> 0.640\n",
      "80 --> 0.648\n",
      "90 --> 0.645\n",
      "100 --> 0.653\n",
      "110 --> 0.655\n",
      "120 --> 0.656\n",
      "130 --> 0.657\n",
      "140 --> 0.659\n",
      "150 --> 0.661\n",
      "160 --> 0.658\n",
      "170 --> 0.658\n",
      "180 --> 0.656\n",
      "190 --> 0.658\n",
      "200 --> 0.659\n",
      "\n",
      "depth : 17\n",
      "10 --> 0.618\n",
      "20 --> 0.624\n",
      "30 --> 0.639\n",
      "40 --> 0.644\n",
      "50 --> 0.642\n",
      "60 --> 0.645\n",
      "70 --> 0.648\n",
      "80 --> 0.650\n",
      "90 --> 0.649\n",
      "100 --> 0.650\n",
      "110 --> 0.653\n",
      "120 --> 0.653\n",
      "130 --> 0.656\n",
      "140 --> 0.656\n",
      "150 --> 0.658\n",
      "160 --> 0.657\n",
      "170 --> 0.657\n",
      "180 --> 0.658\n",
      "190 --> 0.658\n",
      "200 --> 0.659\n",
      "\n",
      "depth : 19\n",
      "10 --> 0.590\n",
      "20 --> 0.616\n",
      "30 --> 0.622\n",
      "40 --> 0.628\n",
      "50 --> 0.641\n",
      "60 --> 0.646\n",
      "70 --> 0.645\n",
      "80 --> 0.652\n",
      "90 --> 0.647\n",
      "100 --> 0.652\n",
      "110 --> 0.653\n",
      "120 --> 0.657\n",
      "130 --> 0.655\n",
      "140 --> 0.658\n",
      "150 --> 0.662\n",
      "160 --> 0.661\n",
      "170 --> 0.661\n",
      "180 --> 0.660\n",
      "190 --> 0.659\n",
      "200 --> 0.661\n",
      "\n"
     ]
    }
   ],
   "source": [
    "all_aucs = {}\n",
    "for depth in [15,17,19]:\n",
    "    print('depth : %s' % depth)\n",
    "    aucs = []\n",
    "    for i in range(10,201,10):\n",
    "        rf = RandomForestClassifier(n_estimators=i, max_depth = depth, random_state = 3)\n",
    "        rf.fit(X_train, y_train)\n",
    "    \n",
    "        y_pred = rf.predict_proba(X_val)[:,1]\n",
    "        auc = roc_auc_score(y_val, y_pred)\n",
    "        print('%s --> %.3f' % (i,auc))\n",
    "        aucs.append(auc)\n",
    "    all_aucs[depth] = aucs\n",
    "    print()\n"
   ]
  },
  {
   "cell_type": "code",
   "execution_count": 35,
   "id": "1c7172df",
   "metadata": {},
   "outputs": [
    {
     "data": {
      "text/plain": [
       "<matplotlib.legend.Legend at 0x1c0c5a95f10>"
      ]
     },
     "execution_count": 35,
     "metadata": {},
     "output_type": "execute_result"
    },
    {
     "data": {
      "image/png": "[encoded data removed]",
      "text/plain": [
       "<Figure size 640x480 with 1 Axes>"
      ]
     },
     "metadata": {},
     "output_type": "display_data"
    }
   ],
   "source": [
    "num_trees = list(range(10,201,10))\n",
    "plt.plot(num_trees, all_aucs[15],label = 'depth=15',color=colors[3], linestyle='dashed')\n",
    "plt.plot(num_trees, all_aucs[17],label = 'depth=17',color=colors[2], linestyle='dashed')\n",
    "plt.plot(num_trees, all_aucs[19],label = 'depth=19',color=colors[1], linestyle='solid')\n",
    "plt.title('Number of trees vs AUC')\n",
    "plt.xlabel('Number of trees')\n",
    "plt.ylabel('AUC')\n",
    "plt.legend()"
   ]
  },
  {
   "cell_type": "code",
   "execution_count": 36,
   "id": "497d0b0b",
   "metadata": {},
   "outputs": [
    {
     "name": "stdout",
     "output_type": "stream",
     "text": [
      "min_samples_leaf : 1\n",
      "10 --> 0.590\n",
      "20 --> 0.616\n",
      "30 --> 0.622\n",
      "40 --> 0.628\n",
      "50 --> 0.641\n",
      "60 --> 0.646\n",
      "70 --> 0.645\n",
      "80 --> 0.652\n",
      "90 --> 0.647\n",
      "100 --> 0.652\n",
      "110 --> 0.653\n",
      "120 --> 0.657\n",
      "130 --> 0.655\n",
      "140 --> 0.658\n",
      "150 --> 0.662\n",
      "160 --> 0.661\n",
      "170 --> 0.661\n",
      "180 --> 0.660\n",
      "190 --> 0.659\n",
      "200 --> 0.661\n",
      "\n",
      "min_samples_leaf : 5\n",
      "10 --> 0.601\n",
      "20 --> 0.633\n",
      "30 --> 0.642\n",
      "40 --> 0.642\n",
      "50 --> 0.638\n",
      "60 --> 0.646\n",
      "70 --> 0.642\n",
      "80 --> 0.642\n",
      "90 --> 0.641\n",
      "100 --> 0.644\n",
      "110 --> 0.641\n",
      "120 --> 0.643\n",
      "130 --> 0.641\n",
      "140 --> 0.644\n",
      "150 --> 0.646\n",
      "160 --> 0.648\n",
      "170 --> 0.646\n",
      "180 --> 0.648\n",
      "190 --> 0.647\n",
      "200 --> 0.649\n",
      "\n",
      "min_samples_leaf : 10\n",
      "10 --> 0.597\n",
      "20 --> 0.621\n",
      "30 --> 0.626\n",
      "40 --> 0.633\n",
      "50 --> 0.635\n",
      "60 --> 0.638\n",
      "70 --> 0.637\n",
      "80 --> 0.640\n",
      "90 --> 0.643\n",
      "100 --> 0.643\n",
      "110 --> 0.645\n",
      "120 --> 0.645\n",
      "130 --> 0.644\n",
      "140 --> 0.645\n",
      "150 --> 0.645\n",
      "160 --> 0.645\n",
      "170 --> 0.646\n",
      "180 --> 0.648\n",
      "190 --> 0.649\n",
      "200 --> 0.649\n",
      "\n"
     ]
    }
   ],
   "source": [
    "all_aucs = {}\n",
    "for m in [1,5,10]:\n",
    "    print('min_samples_leaf : %s' % m)\n",
    "    aucs = []\n",
    "    for i in range(10,201,10):\n",
    "        rf = RandomForestClassifier(n_estimators=i, max_depth = 19,min_samples_leaf=m, random_state = 3)\n",
    "        rf.fit(X_train, y_train)\n",
    "    \n",
    "        y_pred = rf.predict_proba(X_val)[:,1]\n",
    "        auc = roc_auc_score(y_val, y_pred)\n",
    "        print('%s --> %.3f' % (i,auc))\n",
    "        aucs.append(auc)\n",
    "    all_aucs[m] = aucs\n",
    "    print()"
   ]
  },
  {
   "cell_type": "code",
   "execution_count": 37,
   "id": "49949d28",
   "metadata": {},
   "outputs": [
    {
     "name": "stdout",
     "output_type": "stream",
     "text": [
      "The best value AUC:  0.662\n",
      "----------------------------------------\n"
     ]
    },
    {
     "data": {
      "text/plain": [
       "<matplotlib.legend.Legend at 0x1c0c8070220>"
      ]
     },
     "execution_count": 37,
     "metadata": {},
     "output_type": "execute_result"
    },
    {
     "data": {
      "image/png": "[encoded data removed]",
      "text/plain": [
       "<Figure size 640x480 with 1 Axes>"
      ]
     },
     "metadata": {},
     "output_type": "display_data"
    }
   ],
   "source": [
    "max_values_each_key = map(max,list(all_aucs.values()))\n",
    "print(\"The best value AUC: \",round(max(max_values_each_key),3))\n",
    "print(\"--\"*20)\n",
    "num_trees = list(range(10,201,10))\n",
    "plt.plot(num_trees, all_aucs[1],label = 'min_samples_leaf=1',color=colors[1], linestyle='solid')\n",
    "plt.plot(num_trees, all_aucs[5],label = 'min_samples_leaf=5',color=colors[2], linestyle='dashed')\n",
    "plt.plot(num_trees, all_aucs[10],label = 'min_samples_leaf=10',color=colors[3], linestyle='dashed')\n",
    "#plt.plot((150,0.6623), scaley = False,color = 'b',label = 'highest auc')\n",
    "#plt.axhline(.6623,xmin=0,xmax=0.7,linestyle='--')\n",
    "plt.annotate(\"tree: 150 | AUC: 0.662\", xy=(150, 0.662), xytext=(25,0.661),arrowprops=dict(arrowstyle=\"->\"))\n",
    "plt.title('Number of trees vs AUC')\n",
    "plt.xlabel('Number of trees')\n",
    "plt.ylabel('AUC')\n",
    "plt.legend()"
   ]
  },
  {
   "cell_type": "markdown",
   "id": "ab05c370",
   "metadata": {},
   "source": [
    "### THE BEST AUC = 0.662\n",
    "***depth = 19, min_samples_leaf = 1, tree = 150***"
   ]
  },
  {
   "cell_type": "code",
   "execution_count": 38,
   "id": "a24828a0",
   "metadata": {},
   "outputs": [
    {
     "name": "stdout",
     "output_type": "stream",
     "text": [
      "The best value AUC:  0.662\n",
      "None\n",
      "----------------------------------------\n"
     ]
    }
   ],
   "source": [
    "max_values_each_key = map(max,list(all_aucs.values()))\n",
    "a = print(\"The best value AUC: \",round(max(max_values_each_key),3))\n",
    "print(a)\n",
    "print(\"--\"*20)\n",
    "num_trees = list(range(10,201,10))"
   ]
  },
  {
   "cell_type": "code",
   "execution_count": 39,
   "id": "fe345ed7",
   "metadata": {},
   "outputs": [],
   "source": [
    "import pickle"
   ]
  },
  {
   "cell_type": "code",
   "execution_count": 40,
   "id": "d7460ca8",
   "metadata": {},
   "outputs": [],
   "source": [
    "with open('water_potability.bin', 'wb') as f_out:\n",
    "    pickle.dump((dv, rf), f_out)"
   ]
  },
  {
   "cell_type": "code",
   "execution_count": 41,
   "id": "a94a61d8",
   "metadata": {},
   "outputs": [
    {
     "data": {
      "text/plain": [
       "DictVectorizer(sparse=False)"
      ]
     },
     "execution_count": 41,
     "metadata": {},
     "output_type": "execute_result"
    }
   ],
   "source": [
    "dv"
   ]
  },
  {
   "cell_type": "code",
   "execution_count": null,
   "id": "9e1ab45b",
   "metadata": {},
   "outputs": [],
   "source": []
  },
  {
   "cell_type": "code",
   "execution_count": null,
   "id": "f7808e4f",
   "metadata": {},
   "outputs": [],
   "source": []
  }
 ],
 "metadata": {
  "kernelspec": {
   "display_name": "base",
   "language": "python",
   "name": "python3"
  },
  "language_info": {
   "codemirror_mode": {
    "name": "ipython",
    "version": 3
   },
   "file_extension": ".py",
   "mimetype": "text/x-python",
   "name": "python",
   "nbconvert_exporter": "python",
   "pygments_lexer": "ipython3",
   "version": "3.9.7"
  },
  "vp": {
   "vp_config_version": "1.0.0",
   "vp_menu_width": 273,
   "vp_note_display": false,
   "vp_note_width": 0,
   "vp_position": {
    "width": 278
   },
   "vp_section_display": false,
   "vp_signature": "VisualPython"
  },
  "vscode": {
   "interpreter": {
    "hash": "5fd4efc994700174c121b120391719d54ef1af14fc74c3ea954de79c2a8aa505"
   }
  }
 },
 "nbformat": 4,
 "nbformat_minor": 5
}
